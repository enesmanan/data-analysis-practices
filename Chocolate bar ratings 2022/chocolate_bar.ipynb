{
 "cells": [
  {
   "cell_type": "code",
   "execution_count": 1,
   "id": "354515b9-975d-41ec-8c2f-d5e6aa09df57",
   "metadata": {},
   "outputs": [],
   "source": [
    "import numpy as np\n",
    "import pandas as pd\n",
    "import matplotlib.pyplot as plt\n",
    "import seaborn as sns\n",
    "import warnings\n",
    "warnings.filterwarnings('ignore')"
   ]
  },
  {
   "cell_type": "code",
   "execution_count": 2,
   "id": "734f85d2-e5d5-4cce-8763-f0d4fa21cf67",
   "metadata": {},
   "outputs": [],
   "source": [
    "df = pd.read_csv(\"Chocolate bar ratings 2022.csv\")"
   ]
  },
  {
   "cell_type": "code",
   "execution_count": 3,
   "id": "2acd9e42-8cb8-433c-9f05-e196a249b616",
   "metadata": {},
   "outputs": [
    {
     "data": {
      "text/html": [
       "<div>\n",
       "<style scoped>\n",
       "    .dataframe tbody tr th:only-of-type {\n",
       "        vertical-align: middle;\n",
       "    }\n",
       "\n",
       "    .dataframe tbody tr th {\n",
       "        vertical-align: top;\n",
       "    }\n",
       "\n",
       "    .dataframe thead th {\n",
       "        text-align: right;\n",
       "    }\n",
       "</style>\n",
       "<table border=\"1\" class=\"dataframe\">\n",
       "  <thead>\n",
       "    <tr style=\"text-align: right;\">\n",
       "      <th></th>\n",
       "      <th>REF</th>\n",
       "      <th>Company (Manufacturer)</th>\n",
       "      <th>Company Location</th>\n",
       "      <th>Review Date</th>\n",
       "      <th>Country of Bean Origin</th>\n",
       "      <th>Specific Bean Origin or Bar Name</th>\n",
       "      <th>Cocoa Percent</th>\n",
       "      <th>Ingredients</th>\n",
       "      <th>Most Memorable Characteristics</th>\n",
       "      <th>Rating</th>\n",
       "    </tr>\n",
       "  </thead>\n",
       "  <tbody>\n",
       "    <tr>\n",
       "      <th>0</th>\n",
       "      <td>2454</td>\n",
       "      <td>5150</td>\n",
       "      <td>U.S.A.</td>\n",
       "      <td>2019</td>\n",
       "      <td>Tanzania</td>\n",
       "      <td>Kokoa Kamili, batch 1</td>\n",
       "      <td>76%</td>\n",
       "      <td>3- B,S,C</td>\n",
       "      <td>rich cocoa, fatty, bready</td>\n",
       "      <td>3.25</td>\n",
       "    </tr>\n",
       "    <tr>\n",
       "      <th>1</th>\n",
       "      <td>2454</td>\n",
       "      <td>5150</td>\n",
       "      <td>U.S.A.</td>\n",
       "      <td>2019</td>\n",
       "      <td>Madagascar</td>\n",
       "      <td>Bejofo Estate, batch 1</td>\n",
       "      <td>76%</td>\n",
       "      <td>3- B,S,C</td>\n",
       "      <td>cocoa, blackberry, full body</td>\n",
       "      <td>3.75</td>\n",
       "    </tr>\n",
       "    <tr>\n",
       "      <th>2</th>\n",
       "      <td>2458</td>\n",
       "      <td>5150</td>\n",
       "      <td>U.S.A.</td>\n",
       "      <td>2019</td>\n",
       "      <td>Dominican Republic</td>\n",
       "      <td>Zorzal, batch 1</td>\n",
       "      <td>76%</td>\n",
       "      <td>3- B,S,C</td>\n",
       "      <td>cocoa, vegetal, savory</td>\n",
       "      <td>3.50</td>\n",
       "    </tr>\n",
       "    <tr>\n",
       "      <th>3</th>\n",
       "      <td>2542</td>\n",
       "      <td>5150</td>\n",
       "      <td>U.S.A.</td>\n",
       "      <td>2021</td>\n",
       "      <td>Fiji</td>\n",
       "      <td>Matasawalevu, batch 1</td>\n",
       "      <td>68%</td>\n",
       "      <td>3- B,S,C</td>\n",
       "      <td>chewy, off, rubbery</td>\n",
       "      <td>3.00</td>\n",
       "    </tr>\n",
       "    <tr>\n",
       "      <th>4</th>\n",
       "      <td>2542</td>\n",
       "      <td>5150</td>\n",
       "      <td>U.S.A.</td>\n",
       "      <td>2021</td>\n",
       "      <td>India</td>\n",
       "      <td>Anamalai, batch 1</td>\n",
       "      <td>68%</td>\n",
       "      <td>3- B,S,C</td>\n",
       "      <td>milk brownie, macadamia,chewy</td>\n",
       "      <td>3.50</td>\n",
       "    </tr>\n",
       "    <tr>\n",
       "      <th>...</th>\n",
       "      <td>...</td>\n",
       "      <td>...</td>\n",
       "      <td>...</td>\n",
       "      <td>...</td>\n",
       "      <td>...</td>\n",
       "      <td>...</td>\n",
       "      <td>...</td>\n",
       "      <td>...</td>\n",
       "      <td>...</td>\n",
       "      <td>...</td>\n",
       "    </tr>\n",
       "    <tr>\n",
       "      <th>2583</th>\n",
       "      <td>1205</td>\n",
       "      <td>Zotter</td>\n",
       "      <td>Austria</td>\n",
       "      <td>2014</td>\n",
       "      <td>Blend</td>\n",
       "      <td>Raw</td>\n",
       "      <td>80%</td>\n",
       "      <td>4- B,S*,C,Sa</td>\n",
       "      <td>waxy, cloying, vegetal</td>\n",
       "      <td>2.75</td>\n",
       "    </tr>\n",
       "    <tr>\n",
       "      <th>2584</th>\n",
       "      <td>1996</td>\n",
       "      <td>Zotter</td>\n",
       "      <td>Austria</td>\n",
       "      <td>2017</td>\n",
       "      <td>Colombia</td>\n",
       "      <td>APROCAFA, Acandi</td>\n",
       "      <td>75%</td>\n",
       "      <td>3- B,S,C</td>\n",
       "      <td>strong nutty, marshmallow</td>\n",
       "      <td>3.75</td>\n",
       "    </tr>\n",
       "    <tr>\n",
       "      <th>2585</th>\n",
       "      <td>2036</td>\n",
       "      <td>Zotter</td>\n",
       "      <td>Austria</td>\n",
       "      <td>2018</td>\n",
       "      <td>Blend</td>\n",
       "      <td>Dry Aged, 30 yr Anniversary bar</td>\n",
       "      <td>75%</td>\n",
       "      <td>3- B,S,C</td>\n",
       "      <td>fatty, earthy, cocoa</td>\n",
       "      <td>3.00</td>\n",
       "    </tr>\n",
       "    <tr>\n",
       "      <th>2586</th>\n",
       "      <td>2170</td>\n",
       "      <td>Zotter</td>\n",
       "      <td>Austria</td>\n",
       "      <td>2018</td>\n",
       "      <td>Congo</td>\n",
       "      <td>Mountains of the Moon</td>\n",
       "      <td>70%</td>\n",
       "      <td>3- B,S,C</td>\n",
       "      <td>fatty, mild nuts, mild fruit</td>\n",
       "      <td>3.25</td>\n",
       "    </tr>\n",
       "    <tr>\n",
       "      <th>2587</th>\n",
       "      <td>2170</td>\n",
       "      <td>Zotter</td>\n",
       "      <td>Austria</td>\n",
       "      <td>2018</td>\n",
       "      <td>Belize</td>\n",
       "      <td>Maya Mtn</td>\n",
       "      <td>72%</td>\n",
       "      <td>3- B,S,C</td>\n",
       "      <td>muted, roasty, accessible</td>\n",
       "      <td>3.50</td>\n",
       "    </tr>\n",
       "  </tbody>\n",
       "</table>\n",
       "<p>2588 rows × 10 columns</p>\n",
       "</div>"
      ],
      "text/plain": [
       "       REF Company (Manufacturer) Company Location  Review Date  \\\n",
       "0     2454                   5150           U.S.A.         2019   \n",
       "1     2454                   5150           U.S.A.         2019   \n",
       "2     2458                   5150           U.S.A.         2019   \n",
       "3     2542                   5150           U.S.A.         2021   \n",
       "4     2542                   5150           U.S.A.         2021   \n",
       "...    ...                    ...              ...          ...   \n",
       "2583  1205                 Zotter          Austria         2014   \n",
       "2584  1996                 Zotter          Austria         2017   \n",
       "2585  2036                 Zotter          Austria         2018   \n",
       "2586  2170                 Zotter          Austria         2018   \n",
       "2587  2170                 Zotter          Austria         2018   \n",
       "\n",
       "     Country of Bean Origin Specific Bean Origin or Bar Name Cocoa Percent  \\\n",
       "0                  Tanzania            Kokoa Kamili, batch 1           76%   \n",
       "1                Madagascar           Bejofo Estate, batch 1           76%   \n",
       "2        Dominican Republic                  Zorzal, batch 1           76%   \n",
       "3                      Fiji            Matasawalevu, batch 1           68%   \n",
       "4                     India                Anamalai, batch 1           68%   \n",
       "...                     ...                              ...           ...   \n",
       "2583                  Blend                              Raw           80%   \n",
       "2584               Colombia                 APROCAFA, Acandi           75%   \n",
       "2585                  Blend  Dry Aged, 30 yr Anniversary bar           75%   \n",
       "2586                  Congo            Mountains of the Moon           70%   \n",
       "2587                 Belize                         Maya Mtn           72%   \n",
       "\n",
       "       Ingredients Most Memorable Characteristics  Rating  \n",
       "0         3- B,S,C      rich cocoa, fatty, bready    3.25  \n",
       "1         3- B,S,C   cocoa, blackberry, full body    3.75  \n",
       "2         3- B,S,C         cocoa, vegetal, savory    3.50  \n",
       "3         3- B,S,C            chewy, off, rubbery    3.00  \n",
       "4         3- B,S,C  milk brownie, macadamia,chewy    3.50  \n",
       "...            ...                            ...     ...  \n",
       "2583  4- B,S*,C,Sa         waxy, cloying, vegetal    2.75  \n",
       "2584      3- B,S,C      strong nutty, marshmallow    3.75  \n",
       "2585      3- B,S,C           fatty, earthy, cocoa    3.00  \n",
       "2586      3- B,S,C   fatty, mild nuts, mild fruit    3.25  \n",
       "2587      3- B,S,C      muted, roasty, accessible    3.50  \n",
       "\n",
       "[2588 rows x 10 columns]"
      ]
     },
     "execution_count": 3,
     "metadata": {},
     "output_type": "execute_result"
    }
   ],
   "source": [
    "df"
   ]
  },
  {
   "cell_type": "code",
   "execution_count": 4,
   "id": "7c32a307-65c3-4ff8-ab24-c0bd42bf2eaa",
   "metadata": {},
   "outputs": [
    {
     "name": "stdout",
     "output_type": "stream",
     "text": [
      "<class 'pandas.core.frame.DataFrame'>\n",
      "Int64Index: 2588 entries, 0 to 2587\n",
      "Data columns (total 10 columns):\n",
      " #   Column                            Non-Null Count  Dtype  \n",
      "---  ------                            --------------  -----  \n",
      " 0   REF                               2588 non-null   int64  \n",
      " 1   Company (Manufacturer)            2588 non-null   object \n",
      " 2   Company Location                  2588 non-null   object \n",
      " 3   Review Date                       2588 non-null   int64  \n",
      " 4   Country of Bean Origin            2588 non-null   object \n",
      " 5   Specific Bean Origin or Bar Name  2588 non-null   object \n",
      " 6   Cocoa Percent                     2588 non-null   object \n",
      " 7   Ingredients                       2501 non-null   object \n",
      " 8   Most Memorable Characteristics    2588 non-null   object \n",
      " 9   Rating                            2588 non-null   float64\n",
      "dtypes: float64(1), int64(2), object(7)\n",
      "memory usage: 222.4+ KB\n"
     ]
    }
   ],
   "source": [
    "# Yenilenen satırları kaldırdık\n",
    "df = df.drop_duplicates()\n",
    "df.info()"
   ]
  },
  {
   "cell_type": "code",
   "execution_count": 5,
   "id": "35685e1d-7638-4fae-b02e-8848a2c4db25",
   "metadata": {},
   "outputs": [
    {
     "data": {
      "text/plain": [
       "Index(['REF', 'Company (Manufacturer)', 'Company Location', 'Review Date',\n",
       "       'Country of Bean Origin', 'Specific Bean Origin or Bar Name',\n",
       "       'Cocoa Percent', 'Ingredients', 'Most Memorable Characteristics',\n",
       "       'Rating'],\n",
       "      dtype='object')"
      ]
     },
     "execution_count": 5,
     "metadata": {},
     "output_type": "execute_result"
    }
   ],
   "source": [
    "df.columns"
   ]
  },
  {
   "cell_type": "code",
   "execution_count": 6,
   "id": "4392aba3-60bb-44ce-9ede-d9e499b1b09a",
   "metadata": {},
   "outputs": [
    {
     "data": {
      "text/html": [
       "<div>\n",
       "<style scoped>\n",
       "    .dataframe tbody tr th:only-of-type {\n",
       "        vertical-align: middle;\n",
       "    }\n",
       "\n",
       "    .dataframe tbody tr th {\n",
       "        vertical-align: top;\n",
       "    }\n",
       "\n",
       "    .dataframe thead th {\n",
       "        text-align: right;\n",
       "    }\n",
       "</style>\n",
       "<table border=\"1\" class=\"dataframe\">\n",
       "  <thead>\n",
       "    <tr style=\"text-align: right;\">\n",
       "      <th></th>\n",
       "      <th>REF</th>\n",
       "      <th>Review Date</th>\n",
       "      <th>Rating</th>\n",
       "    </tr>\n",
       "  </thead>\n",
       "  <tbody>\n",
       "    <tr>\n",
       "      <th>count</th>\n",
       "      <td>2588.000000</td>\n",
       "      <td>2588.000000</td>\n",
       "      <td>2588.000000</td>\n",
       "    </tr>\n",
       "    <tr>\n",
       "      <th>mean</th>\n",
       "      <td>1459.185471</td>\n",
       "      <td>2014.545209</td>\n",
       "      <td>3.198319</td>\n",
       "    </tr>\n",
       "    <tr>\n",
       "      <th>std</th>\n",
       "      <td>773.852201</td>\n",
       "      <td>4.082722</td>\n",
       "      <td>0.444069</td>\n",
       "    </tr>\n",
       "    <tr>\n",
       "      <th>min</th>\n",
       "      <td>5.000000</td>\n",
       "      <td>2006.000000</td>\n",
       "      <td>1.000000</td>\n",
       "    </tr>\n",
       "    <tr>\n",
       "      <th>25%</th>\n",
       "      <td>820.000000</td>\n",
       "      <td>2012.000000</td>\n",
       "      <td>3.000000</td>\n",
       "    </tr>\n",
       "    <tr>\n",
       "      <th>50%</th>\n",
       "      <td>1470.000000</td>\n",
       "      <td>2015.000000</td>\n",
       "      <td>3.250000</td>\n",
       "    </tr>\n",
       "    <tr>\n",
       "      <th>75%</th>\n",
       "      <td>2122.000000</td>\n",
       "      <td>2018.000000</td>\n",
       "      <td>3.500000</td>\n",
       "    </tr>\n",
       "    <tr>\n",
       "      <th>max</th>\n",
       "      <td>2768.000000</td>\n",
       "      <td>2022.000000</td>\n",
       "      <td>4.000000</td>\n",
       "    </tr>\n",
       "  </tbody>\n",
       "</table>\n",
       "</div>"
      ],
      "text/plain": [
       "               REF  Review Date       Rating\n",
       "count  2588.000000  2588.000000  2588.000000\n",
       "mean   1459.185471  2014.545209     3.198319\n",
       "std     773.852201     4.082722     0.444069\n",
       "min       5.000000  2006.000000     1.000000\n",
       "25%     820.000000  2012.000000     3.000000\n",
       "50%    1470.000000  2015.000000     3.250000\n",
       "75%    2122.000000  2018.000000     3.500000\n",
       "max    2768.000000  2022.000000     4.000000"
      ]
     },
     "execution_count": 6,
     "metadata": {},
     "output_type": "execute_result"
    }
   ],
   "source": [
    "df.describe()"
   ]
  },
  {
   "cell_type": "code",
   "execution_count": 7,
   "id": "a379fcdf-5574-471b-8449-e8bcd18c5d95",
   "metadata": {},
   "outputs": [
    {
     "data": {
      "text/plain": [
       "REF                                 False\n",
       "Company (Manufacturer)              False\n",
       "Company Location                    False\n",
       "Review Date                         False\n",
       "Country of Bean Origin              False\n",
       "Specific Bean Origin or Bar Name    False\n",
       "Cocoa Percent                       False\n",
       "Ingredients                          True\n",
       "Most Memorable Characteristics      False\n",
       "Rating                              False\n",
       "dtype: bool"
      ]
     },
     "execution_count": 7,
     "metadata": {},
     "output_type": "execute_result"
    }
   ],
   "source": [
    "#Ingredients kolonunda eksik veri var\n",
    "df.isnull().any()"
   ]
  },
  {
   "cell_type": "code",
   "execution_count": 8,
   "id": "55537688-e25b-4389-8477-9b7a8caad555",
   "metadata": {},
   "outputs": [
    {
     "data": {
      "text/plain": [
       "REF                                  0\n",
       "Company (Manufacturer)               0\n",
       "Company Location                     0\n",
       "Review Date                          0\n",
       "Country of Bean Origin               0\n",
       "Specific Bean Origin or Bar Name     0\n",
       "Cocoa Percent                        0\n",
       "Ingredients                         87\n",
       "Most Memorable Characteristics       0\n",
       "Rating                               0\n",
       "dtype: int64"
      ]
     },
     "execution_count": 8,
     "metadata": {},
     "output_type": "execute_result"
    }
   ],
   "source": [
    "# 87 tane eksik veri var\n",
    "df.isnull().sum()"
   ]
  },
  {
   "cell_type": "code",
   "execution_count": 9,
   "id": "d74ed58e-7b84-4607-a181-b9f48690b779",
   "metadata": {},
   "outputs": [],
   "source": [
    "# Ingredients kolonundaki boşlukları kolonun modu ile dolduruyoruz\n",
    "df.Ingredients = df.Ingredients.fillna(df[df[\"Ingredients\"].notna()].Ingredients.mode()[0])"
   ]
  },
  {
   "cell_type": "code",
   "execution_count": 10,
   "id": "e673d703-8190-41af-b335-a0e1219fe198",
   "metadata": {},
   "outputs": [
    {
     "data": {
      "text/plain": [
       "REF                                 0\n",
       "Company (Manufacturer)              0\n",
       "Company Location                    0\n",
       "Review Date                         0\n",
       "Country of Bean Origin              0\n",
       "Specific Bean Origin or Bar Name    0\n",
       "Cocoa Percent                       0\n",
       "Ingredients                         0\n",
       "Most Memorable Characteristics      0\n",
       "Rating                              0\n",
       "dtype: int64"
      ]
     },
     "execution_count": 10,
     "metadata": {},
     "output_type": "execute_result"
    }
   ],
   "source": [
    "df.isnull().sum()"
   ]
  },
  {
   "cell_type": "code",
   "execution_count": 11,
   "id": "27bbc7e8-8dbe-4d0c-afb6-84e6e6a9725b",
   "metadata": {},
   "outputs": [],
   "source": [
    "# Cocoa Percent kolonundaki % isaretini kaldiriyoruz\n",
    "df[\"Cocoa Percent\"] = df[\"Cocoa Percent\"].apply(lambda i: float(i[:-1]))"
   ]
  },
  {
   "cell_type": "code",
   "execution_count": 12,
   "id": "92b7cd0a-f525-4fa6-b52b-ece8922a1dba",
   "metadata": {},
   "outputs": [
    {
     "data": {
      "text/html": [
       "<div>\n",
       "<style scoped>\n",
       "    .dataframe tbody tr th:only-of-type {\n",
       "        vertical-align: middle;\n",
       "    }\n",
       "\n",
       "    .dataframe tbody tr th {\n",
       "        vertical-align: top;\n",
       "    }\n",
       "\n",
       "    .dataframe thead th {\n",
       "        text-align: right;\n",
       "    }\n",
       "</style>\n",
       "<table border=\"1\" class=\"dataframe\">\n",
       "  <thead>\n",
       "    <tr style=\"text-align: right;\">\n",
       "      <th></th>\n",
       "      <th>REF</th>\n",
       "      <th>Company (Manufacturer)</th>\n",
       "      <th>Company Location</th>\n",
       "      <th>Review Date</th>\n",
       "      <th>Country of Bean Origin</th>\n",
       "      <th>Specific Bean Origin or Bar Name</th>\n",
       "      <th>Cocoa Percent</th>\n",
       "      <th>Ingredients</th>\n",
       "      <th>Most Memorable Characteristics</th>\n",
       "      <th>Rating</th>\n",
       "    </tr>\n",
       "  </thead>\n",
       "  <tbody>\n",
       "    <tr>\n",
       "      <th>0</th>\n",
       "      <td>2454</td>\n",
       "      <td>5150</td>\n",
       "      <td>U.S.A.</td>\n",
       "      <td>2019</td>\n",
       "      <td>Tanzania</td>\n",
       "      <td>Kokoa Kamili, batch 1</td>\n",
       "      <td>76.0</td>\n",
       "      <td>3- B,S,C</td>\n",
       "      <td>rich cocoa, fatty, bready</td>\n",
       "      <td>3.25</td>\n",
       "    </tr>\n",
       "    <tr>\n",
       "      <th>1</th>\n",
       "      <td>2454</td>\n",
       "      <td>5150</td>\n",
       "      <td>U.S.A.</td>\n",
       "      <td>2019</td>\n",
       "      <td>Madagascar</td>\n",
       "      <td>Bejofo Estate, batch 1</td>\n",
       "      <td>76.0</td>\n",
       "      <td>3- B,S,C</td>\n",
       "      <td>cocoa, blackberry, full body</td>\n",
       "      <td>3.75</td>\n",
       "    </tr>\n",
       "    <tr>\n",
       "      <th>2</th>\n",
       "      <td>2458</td>\n",
       "      <td>5150</td>\n",
       "      <td>U.S.A.</td>\n",
       "      <td>2019</td>\n",
       "      <td>Dominican Republic</td>\n",
       "      <td>Zorzal, batch 1</td>\n",
       "      <td>76.0</td>\n",
       "      <td>3- B,S,C</td>\n",
       "      <td>cocoa, vegetal, savory</td>\n",
       "      <td>3.50</td>\n",
       "    </tr>\n",
       "    <tr>\n",
       "      <th>3</th>\n",
       "      <td>2542</td>\n",
       "      <td>5150</td>\n",
       "      <td>U.S.A.</td>\n",
       "      <td>2021</td>\n",
       "      <td>Fiji</td>\n",
       "      <td>Matasawalevu, batch 1</td>\n",
       "      <td>68.0</td>\n",
       "      <td>3- B,S,C</td>\n",
       "      <td>chewy, off, rubbery</td>\n",
       "      <td>3.00</td>\n",
       "    </tr>\n",
       "    <tr>\n",
       "      <th>4</th>\n",
       "      <td>2542</td>\n",
       "      <td>5150</td>\n",
       "      <td>U.S.A.</td>\n",
       "      <td>2021</td>\n",
       "      <td>India</td>\n",
       "      <td>Anamalai, batch 1</td>\n",
       "      <td>68.0</td>\n",
       "      <td>3- B,S,C</td>\n",
       "      <td>milk brownie, macadamia,chewy</td>\n",
       "      <td>3.50</td>\n",
       "    </tr>\n",
       "    <tr>\n",
       "      <th>...</th>\n",
       "      <td>...</td>\n",
       "      <td>...</td>\n",
       "      <td>...</td>\n",
       "      <td>...</td>\n",
       "      <td>...</td>\n",
       "      <td>...</td>\n",
       "      <td>...</td>\n",
       "      <td>...</td>\n",
       "      <td>...</td>\n",
       "      <td>...</td>\n",
       "    </tr>\n",
       "    <tr>\n",
       "      <th>2583</th>\n",
       "      <td>1205</td>\n",
       "      <td>Zotter</td>\n",
       "      <td>Austria</td>\n",
       "      <td>2014</td>\n",
       "      <td>Blend</td>\n",
       "      <td>Raw</td>\n",
       "      <td>80.0</td>\n",
       "      <td>4- B,S*,C,Sa</td>\n",
       "      <td>waxy, cloying, vegetal</td>\n",
       "      <td>2.75</td>\n",
       "    </tr>\n",
       "    <tr>\n",
       "      <th>2584</th>\n",
       "      <td>1996</td>\n",
       "      <td>Zotter</td>\n",
       "      <td>Austria</td>\n",
       "      <td>2017</td>\n",
       "      <td>Colombia</td>\n",
       "      <td>APROCAFA, Acandi</td>\n",
       "      <td>75.0</td>\n",
       "      <td>3- B,S,C</td>\n",
       "      <td>strong nutty, marshmallow</td>\n",
       "      <td>3.75</td>\n",
       "    </tr>\n",
       "    <tr>\n",
       "      <th>2585</th>\n",
       "      <td>2036</td>\n",
       "      <td>Zotter</td>\n",
       "      <td>Austria</td>\n",
       "      <td>2018</td>\n",
       "      <td>Blend</td>\n",
       "      <td>Dry Aged, 30 yr Anniversary bar</td>\n",
       "      <td>75.0</td>\n",
       "      <td>3- B,S,C</td>\n",
       "      <td>fatty, earthy, cocoa</td>\n",
       "      <td>3.00</td>\n",
       "    </tr>\n",
       "    <tr>\n",
       "      <th>2586</th>\n",
       "      <td>2170</td>\n",
       "      <td>Zotter</td>\n",
       "      <td>Austria</td>\n",
       "      <td>2018</td>\n",
       "      <td>Congo</td>\n",
       "      <td>Mountains of the Moon</td>\n",
       "      <td>70.0</td>\n",
       "      <td>3- B,S,C</td>\n",
       "      <td>fatty, mild nuts, mild fruit</td>\n",
       "      <td>3.25</td>\n",
       "    </tr>\n",
       "    <tr>\n",
       "      <th>2587</th>\n",
       "      <td>2170</td>\n",
       "      <td>Zotter</td>\n",
       "      <td>Austria</td>\n",
       "      <td>2018</td>\n",
       "      <td>Belize</td>\n",
       "      <td>Maya Mtn</td>\n",
       "      <td>72.0</td>\n",
       "      <td>3- B,S,C</td>\n",
       "      <td>muted, roasty, accessible</td>\n",
       "      <td>3.50</td>\n",
       "    </tr>\n",
       "  </tbody>\n",
       "</table>\n",
       "<p>2588 rows × 10 columns</p>\n",
       "</div>"
      ],
      "text/plain": [
       "       REF Company (Manufacturer) Company Location  Review Date  \\\n",
       "0     2454                   5150           U.S.A.         2019   \n",
       "1     2454                   5150           U.S.A.         2019   \n",
       "2     2458                   5150           U.S.A.         2019   \n",
       "3     2542                   5150           U.S.A.         2021   \n",
       "4     2542                   5150           U.S.A.         2021   \n",
       "...    ...                    ...              ...          ...   \n",
       "2583  1205                 Zotter          Austria         2014   \n",
       "2584  1996                 Zotter          Austria         2017   \n",
       "2585  2036                 Zotter          Austria         2018   \n",
       "2586  2170                 Zotter          Austria         2018   \n",
       "2587  2170                 Zotter          Austria         2018   \n",
       "\n",
       "     Country of Bean Origin Specific Bean Origin or Bar Name  Cocoa Percent  \\\n",
       "0                  Tanzania            Kokoa Kamili, batch 1           76.0   \n",
       "1                Madagascar           Bejofo Estate, batch 1           76.0   \n",
       "2        Dominican Republic                  Zorzal, batch 1           76.0   \n",
       "3                      Fiji            Matasawalevu, batch 1           68.0   \n",
       "4                     India                Anamalai, batch 1           68.0   \n",
       "...                     ...                              ...            ...   \n",
       "2583                  Blend                              Raw           80.0   \n",
       "2584               Colombia                 APROCAFA, Acandi           75.0   \n",
       "2585                  Blend  Dry Aged, 30 yr Anniversary bar           75.0   \n",
       "2586                  Congo            Mountains of the Moon           70.0   \n",
       "2587                 Belize                         Maya Mtn           72.0   \n",
       "\n",
       "       Ingredients Most Memorable Characteristics  Rating  \n",
       "0         3- B,S,C      rich cocoa, fatty, bready    3.25  \n",
       "1         3- B,S,C   cocoa, blackberry, full body    3.75  \n",
       "2         3- B,S,C         cocoa, vegetal, savory    3.50  \n",
       "3         3- B,S,C            chewy, off, rubbery    3.00  \n",
       "4         3- B,S,C  milk brownie, macadamia,chewy    3.50  \n",
       "...            ...                            ...     ...  \n",
       "2583  4- B,S*,C,Sa         waxy, cloying, vegetal    2.75  \n",
       "2584      3- B,S,C      strong nutty, marshmallow    3.75  \n",
       "2585      3- B,S,C           fatty, earthy, cocoa    3.00  \n",
       "2586      3- B,S,C   fatty, mild nuts, mild fruit    3.25  \n",
       "2587      3- B,S,C      muted, roasty, accessible    3.50  \n",
       "\n",
       "[2588 rows x 10 columns]"
      ]
     },
     "execution_count": 12,
     "metadata": {},
     "output_type": "execute_result"
    }
   ],
   "source": [
    "df"
   ]
  },
  {
   "cell_type": "code",
   "execution_count": 17,
   "id": "6148828d-9b03-4ae2-8f7f-89fc5cd0f817",
   "metadata": {},
   "outputs": [
    {
     "data": {
      "text/plain": [
       "<AxesSubplot: xlabel='Rating', ylabel='Density'>"
      ]
     },
     "execution_count": 17,
     "metadata": {},
     "output_type": "execute_result"
    },
    {
     "data": {
      "image/png": "[encoded data removed]",
      "text/plain": [
       "<Figure size 640x480 with 1 Axes>"
      ]
     },
     "metadata": {},
     "output_type": "display_data"
    }
   ],
   "source": [
    "plt.style.use(\"Solarize_Light2\")\n",
    "sns.distplot(df.Rating)"
   ]
  },
  {
   "cell_type": "code",
   "execution_count": 24,
   "id": "9c88a994-ae21-464f-adc1-5a118e6b0741",
   "metadata": {},
   "outputs": [
    {
     "data": {
      "text/plain": [
       "4.0"
      ]
     },
     "execution_count": 24,
     "metadata": {},
     "output_type": "execute_result"
    }
   ],
   "source": [
    "#En yuksek degerlendirme\n",
    "df[\"Rating\"].max()"
   ]
  },
  {
   "cell_type": "code",
   "execution_count": 30,
   "id": "265d2498-8dee-410a-a4d0-9b75903b8909",
   "metadata": {},
   "outputs": [
    {
     "data": {
      "text/plain": [
       "REF   Company (Manufacturer)  Company Location  Review Date  Country of Bean Origin  Specific Bean Origin or Bar Name                Cocoa Percent  Ingredients  Most Memorable Characteristics   Rating\n",
       "48    Bonnat                  France            2006         Venezuela               Maracaibo, El Rosario                           75.0           3- B,S,C     creamy, fatty, floral            4.0       1\n",
       "2024  Arete                   U.S.A.            2017         Bolivia                 Beniano                                         70.0           2- B,S       creamy, bright fruit             4.0       1\n",
       "2016  Dick Taylor             U.S.A.            2017         Solomon Islands         Solomon Is.,batch 17158, N.Vela                 72.0           2- B,S       well defined, creamy, cherry     4.0       1\n",
       "1984  Letterpress             U.S.A.            2017         Peru                    Ucayali                                         70.0           3- B,S,C     mild, licorice, coffee, cocoa    4.0       1\n",
       "1924  Arete                   U.S.A.            2016         Peru                    Phantom                                         70.0           2- B,S       creamy, complex, balanced        4.0       1\n",
       "                                                                                                                                                                                                           ..\n",
       "757   Benoit Nihant           Belgium           2011         Indonesia               Bali, Sukrama Bros. Farm, Melaya, 62hr C        72.0           3- B,S,C     smokey, raspberries, cocoa       4.0       1\n",
       "745   Fresco                  U.S.A.            2011         Venezuela               Chuao, #217, DR, MC, batch 11-021               70.0           3- B,S,C     tart, roasted cocoa              4.0       1\n",
       "741   Woodblock               U.S.A.            2011         Venezuela               Ocumare                                         70.0           2- B,S       nutty, tart, coffee              4.0       1\n",
       "737   Idilio (Felchlin)       Switzerland       2011         Venezuela               Sur del Lago, Amiari Meridena, Zulia, w/ nibs   72.0           3- B,S,C     creamy, nutty, earthy            4.0       1\n",
       "2768  Soma                    Canada            2022         Uganda                  Semuliki Forest, Bundibugyo, b. 13416SEM220426  70.0           3- B,S,C     creamy,choco strawberry,vanilla  4.0       1\n",
       "Length: 115, dtype: int64"
      ]
     },
     "execution_count": 30,
     "metadata": {},
     "output_type": "execute_result"
    }
   ],
   "source": [
    "df[df[\"Rating\"]==4.0].value_counts()"
   ]
  },
  {
   "cell_type": "code",
   "execution_count": 21,
   "id": "5b8f00ee-018a-4424-808a-ad5bdcc3ea97",
   "metadata": {},
   "outputs": [
    {
     "data": {
      "text/plain": [
       "count    2588.000000\n",
       "mean        3.198319\n",
       "std         0.444069\n",
       "min         1.000000\n",
       "25%         3.000000\n",
       "50%         3.250000\n",
       "75%         3.500000\n",
       "max         4.000000\n",
       "Name: Rating, dtype: float64"
      ]
     },
     "execution_count": 21,
     "metadata": {},
     "output_type": "execute_result"
    }
   ],
   "source": [
    "# Degerlendirmelerin betimsel istatistikleri\n",
    "df[\"Rating\"].describe()"
   ]
  },
  {
   "cell_type": "code",
   "execution_count": 41,
   "id": "2fc4ab58-e2f1-4bd0-a72a-0d314316c297",
   "metadata": {},
   "outputs": [
    {
     "data": {
      "text/html": [
       "<div>\n",
       "<style scoped>\n",
       "    .dataframe tbody tr th:only-of-type {\n",
       "        vertical-align: middle;\n",
       "    }\n",
       "\n",
       "    .dataframe tbody tr th {\n",
       "        vertical-align: top;\n",
       "    }\n",
       "\n",
       "    .dataframe thead th {\n",
       "        text-align: right;\n",
       "    }\n",
       "</style>\n",
       "<table border=\"1\" class=\"dataframe\">\n",
       "  <thead>\n",
       "    <tr style=\"text-align: right;\">\n",
       "      <th></th>\n",
       "      <th>Company (Manufacturer)</th>\n",
       "      <th>Company Location</th>\n",
       "      <th>Rating</th>\n",
       "    </tr>\n",
       "  </thead>\n",
       "  <tbody>\n",
       "    <tr>\n",
       "      <th>16</th>\n",
       "      <td>A. Morin</td>\n",
       "      <td>France</td>\n",
       "      <td>4.0</td>\n",
       "    </tr>\n",
       "    <tr>\n",
       "      <th>19</th>\n",
       "      <td>A. Morin</td>\n",
       "      <td>France</td>\n",
       "      <td>4.0</td>\n",
       "    </tr>\n",
       "    <tr>\n",
       "      <th>24</th>\n",
       "      <td>A. Morin</td>\n",
       "      <td>France</td>\n",
       "      <td>4.0</td>\n",
       "    </tr>\n",
       "    <tr>\n",
       "      <th>32</th>\n",
       "      <td>A. Morin</td>\n",
       "      <td>France</td>\n",
       "      <td>4.0</td>\n",
       "    </tr>\n",
       "    <tr>\n",
       "      <th>81</th>\n",
       "      <td>Amano</td>\n",
       "      <td>U.S.A.</td>\n",
       "      <td>4.0</td>\n",
       "    </tr>\n",
       "    <tr>\n",
       "      <th>...</th>\n",
       "      <td>...</td>\n",
       "      <td>...</td>\n",
       "      <td>...</td>\n",
       "    </tr>\n",
       "    <tr>\n",
       "      <th>2448</th>\n",
       "      <td>Valrhona</td>\n",
       "      <td>France</td>\n",
       "      <td>4.0</td>\n",
       "    </tr>\n",
       "    <tr>\n",
       "      <th>2451</th>\n",
       "      <td>Valrhona</td>\n",
       "      <td>France</td>\n",
       "      <td>4.0</td>\n",
       "    </tr>\n",
       "    <tr>\n",
       "      <th>2501</th>\n",
       "      <td>White Label aka Mutari</td>\n",
       "      <td>U.S.A.</td>\n",
       "      <td>4.0</td>\n",
       "    </tr>\n",
       "    <tr>\n",
       "      <th>2517</th>\n",
       "      <td>Willie's Cacao</td>\n",
       "      <td>U.K.</td>\n",
       "      <td>4.0</td>\n",
       "    </tr>\n",
       "    <tr>\n",
       "      <th>2524</th>\n",
       "      <td>Woodblock</td>\n",
       "      <td>U.S.A.</td>\n",
       "      <td>4.0</td>\n",
       "    </tr>\n",
       "  </tbody>\n",
       "</table>\n",
       "<p>115 rows × 3 columns</p>\n",
       "</div>"
      ],
      "text/plain": [
       "      Company (Manufacturer) Company Location  Rating\n",
       "16                  A. Morin           France     4.0\n",
       "19                  A. Morin           France     4.0\n",
       "24                  A. Morin           France     4.0\n",
       "32                  A. Morin           France     4.0\n",
       "81                     Amano           U.S.A.     4.0\n",
       "...                      ...              ...     ...\n",
       "2448                Valrhona           France     4.0\n",
       "2451                Valrhona           France     4.0\n",
       "2501  White Label aka Mutari           U.S.A.     4.0\n",
       "2517          Willie's Cacao             U.K.     4.0\n",
       "2524               Woodblock           U.S.A.     4.0\n",
       "\n",
       "[115 rows x 3 columns]"
      ]
     },
     "execution_count": 41,
     "metadata": {},
     "output_type": "execute_result"
    }
   ],
   "source": [
    "# En yuksek deger alan ureticiler ve uretim yerleri\n",
    "yuksek = df[[\"Company (Manufacturer)\",\"Company Location\",\"Rating\"]][df[\"Rating\"]==df[\"Rating\"].max()]\n",
    "yuksek"
   ]
  },
  {
   "cell_type": "code",
   "execution_count": 46,
   "id": "4713a840-c21d-470c-9aef-27f6399e48eb",
   "metadata": {},
   "outputs": [
    {
     "data": {
      "text/html": [
       "<div>\n",
       "<style scoped>\n",
       "    .dataframe tbody tr th:only-of-type {\n",
       "        vertical-align: middle;\n",
       "    }\n",
       "\n",
       "    .dataframe tbody tr th {\n",
       "        vertical-align: top;\n",
       "    }\n",
       "\n",
       "    .dataframe thead th {\n",
       "        text-align: right;\n",
       "    }\n",
       "</style>\n",
       "<table border=\"1\" class=\"dataframe\">\n",
       "  <thead>\n",
       "    <tr style=\"text-align: right;\">\n",
       "      <th></th>\n",
       "      <th>Company (Manufacturer)</th>\n",
       "      <th>Company Location</th>\n",
       "      <th>Rating</th>\n",
       "    </tr>\n",
       "  </thead>\n",
       "  <tbody>\n",
       "    <tr>\n",
       "      <th>0</th>\n",
       "      <td>Soma</td>\n",
       "      <td>U.S.A.</td>\n",
       "      <td>4.0</td>\n",
       "    </tr>\n",
       "  </tbody>\n",
       "</table>\n",
       "</div>"
      ],
      "text/plain": [
       "  Company (Manufacturer) Company Location  Rating\n",
       "0                   Soma           U.S.A.     4.0"
      ]
     },
     "execution_count": 46,
     "metadata": {},
     "output_type": "execute_result"
    }
   ],
   "source": [
    "# En başarılı cikolata ureticisi ve uretim yeri\n",
    "yuksek.mode()"
   ]
  },
  {
   "cell_type": "code",
   "execution_count": 67,
   "id": "e8c044a8-c192-4c02-84eb-5e0901948dc7",
   "metadata": {},
   "outputs": [
    {
     "data": {
      "text/plain": [
       "[Text(0.5, 1.0, 'Kakao oranlarının dağılımı')]"
      ]
     },
     "execution_count": 67,
     "metadata": {},
     "output_type": "execute_result"
    },
    {
     "data": {
      "image/png": "[encoded data removed]",
      "text/plain": [
       "<Figure size 2000x1000 with 1 Axes>"
      ]
     },
     "metadata": {},
     "output_type": "display_data"
    }
   ],
   "source": [
    "plt.figure(figsize=(20,10))\n",
    "sns.countplot(data=df, x=\"Cocoa Percent\", palette=\"Pastel1\",width=1,saturation=1).set(title=\"Kakao oranlarının dağılımı\")"
   ]
  },
  {
   "cell_type": "code",
   "execution_count": 76,
   "id": "44aeefdf-1599-49ee-981c-149675860abf",
   "metadata": {},
   "outputs": [
    {
     "data": {
      "text/plain": [
       "<AxesSubplot: xlabel='Company Location', ylabel='count'>"
      ]
     },
     "execution_count": 76,
     "metadata": {},
     "output_type": "execute_result"
    },
    {
     "data": {
      "image/png": "[encoded data removed]",
      "text/plain": [
       "<Figure size 2000x500 with 1 Axes>"
      ]
     },
     "metadata": {},
     "output_type": "display_data"
    }
   ],
   "source": [
    "#Ureticilerin uretim yerlerinin dagilimi\n",
    "plt.figure(figsize=(20,5))\n",
    "plt.xticks(rotation=90)\n",
    "sns.countplot(data=df, x=\"Company Location\")"
   ]
  },
  {
   "cell_type": "code",
   "execution_count": 54,
   "id": "4e848420-5bb5-4f66-a186-e482d3d6ad4d",
   "metadata": {},
   "outputs": [
    {
     "data": {
      "text/plain": [
       "<AxesSubplot: >"
      ]
     },
     "execution_count": 54,
     "metadata": {},
     "output_type": "execute_result"
    },
    {
     "data": {
      "image/png": "[encoded data removed]",
      "text/plain": [
       "<Figure size 640x480 with 2 Axes>"
      ]
     },
     "metadata": {},
     "output_type": "display_data"
    }
   ],
   "source": [
    "corr = df.corr()\n",
    "sns.heatmap(corr,annot = True, linewidths = 2)"
   ]
  }
 ],
 "metadata": {
  "kernelspec": {
   "display_name": "Python 3 (ipykernel)",
   "language": "python",
   "name": "python3"
  },
  "language_info": {
   "codemirror_mode": {
    "name": "ipython",
    "version": 3
   },
   "file_extension": ".py",
   "mimetype": "text/x-python",
   "name": "python",
   "nbconvert_exporter": "python",
   "pygments_lexer": "ipython3",
   "version": "3.9.15"
  }
 },
 "nbformat": 4,
 "nbformat_minor": 5
}
